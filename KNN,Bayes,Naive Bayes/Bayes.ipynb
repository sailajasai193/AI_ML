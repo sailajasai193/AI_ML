{
 "cells": [
  {
   "cell_type": "code",
   "execution_count": 1,
   "id": "c57f3b0d-9d41-4c99-990e-9979bf8f2c06",
   "metadata": {},
   "outputs": [],
   "source": [
    "import pandas as pd\n",
    "import numpy as np\n",
    "from scipy.stats import multivariate_normal\n",
    "from sklearn.neighbors import KNeighborsClassifier\n",
    "from sklearn.naive_bayes import GaussianNB\n",
    "from sklearn.metrics import confusion_matrix, accuracy_score, precision_score, recall_score, f1_score"
   ]
  },
  {
   "cell_type": "code",
   "execution_count": 3,
   "id": "91ac32ab-3130-466b-b30d-d8d107b4226b",
   "metadata": {},
   "outputs": [],
   "source": [
    "train_df = pd.read_csv('WDBC_Train.csv')\n",
    "valid_df = pd.read_csv('WDBC_Validation.csv')\n",
    "test_df = pd.read_csv('WDBC_Test.csv')\n",
    "X_train,y_train=train_df.iloc[:,1:],train_df.iloc[:,0]\n",
    "X_valid,y_valid=valid_df.iloc[:,1:],valid_df.iloc[:,0]\n",
    "X_test,y_test=test_df.iloc[:,1:],test_df.iloc[:,0]"
   ]
  },
  {
   "cell_type": "code",
   "execution_count": 40,
   "id": "7deecd19-3080-4c0f-b804-2f06c3cfcdf6",
   "metadata": {},
   "outputs": [
    {
     "ename": "KeyError",
     "evalue": "0",
     "output_type": "error",
     "traceback": [
      "\u001b[0;31m---------------------------------------------------------------------------\u001b[0m",
      "\u001b[0;31mKeyError\u001b[0m                                  Traceback (most recent call last)",
      "Cell \u001b[0;32mIn[40], line 24\u001b[0m\n\u001b[1;32m     22\u001b[0m \u001b[38;5;28;01mfor\u001b[39;00m c \u001b[38;5;129;01min\u001b[39;00m classes:\n\u001b[1;32m     23\u001b[0m     \u001b[38;5;28;01mtry\u001b[39;00m:\n\u001b[0;32m---> 24\u001b[0m         likelihood \u001b[38;5;241m=\u001b[39m multivariate_normal(mean\u001b[38;5;241m=\u001b[39mmean_vectors[c], cov\u001b[38;5;241m=\u001b[39m\u001b[43mcovariance_matrices\u001b[49m\u001b[43m[\u001b[49m\u001b[43mc\u001b[49m\u001b[43m]\u001b[49m)\u001b[38;5;241m.\u001b[39mpdf(x)\n\u001b[1;32m     25\u001b[0m     \u001b[38;5;28;01mexcept\u001b[39;00m np\u001b[38;5;241m.\u001b[39mlinalg\u001b[38;5;241m.\u001b[39mLinAlgError:\n\u001b[1;32m     26\u001b[0m         likelihood \u001b[38;5;241m=\u001b[39m \u001b[38;5;241m1e-9\u001b[39m \u001b[38;5;66;03m# Avoid singular covariance errors\u001b[39;00m\n",
      "\u001b[0;31mKeyError\u001b[0m: 0"
     ]
    }
   ],
   "source": [
    "def bayes_classifier(X_train,y_train,X_test):\n",
    "    if isinstance(y_train,pd.Series):\n",
    "       y_train=y_train.to_numpy()\n",
    "\n",
    "classes=np.unique(y_train)        \n",
    "mean_vectors={}\n",
    "covariance_matrices={}\n",
    "priors={}\n",
    "\n",
    "for c in classes:\n",
    "    X_class=X_tarin[y_train==c] if isinstance(X_train,np.ndarray) else X_train.loc[y_train==c]\n",
    "    mean_vectors[c]=np.mean(X_class,axis=0)\n",
    "if X_class.shape[0]>1:\n",
    "    covariance_matrices[c]=np.cov(X_class,rowvar=False)+np.eye(X_class.shape[1])*1e-6\n",
    "else :\n",
    "    covariance_matrices[c]=np.eye(x_class.shape[1])*1e-6\n",
    "\n",
    "priors[c] = X_class.shape[0] / len(y_train)\n",
    "y_pred = []\n",
    "for x in (X_test.to_numpy() if isinstance(X_test, pd.DataFrame) else X_test):  \n",
    "        posteriors = {}\n",
    "        for c in classes:\n",
    "            try:\n",
    "                likelihood = multivariate_normal(mean=mean_vectors[c], cov=covariance_matrices[c]).pdf(x)\n",
    "            except np.linalg.LinAlgError:\n",
    "                likelihood = 1e-9 # Avoid singular covariance errors\n",
    "            posteriors[c] = likelihood * priors[c]\n",
    "\n",
    "        y_pred.append(max(posteriors, key=posteriors.get))\n",
    "\n",
    " return np.array(y_pred)"
   ]
  },
  {
   "cell_type": "code",
   "execution_count": 62,
   "id": "5249cfea-d647-487b-a125-5651c38a755d",
   "metadata": {},
   "outputs": [
    {
     "name": "stdout",
     "output_type": "stream",
     "text": [
      "Bayes Classifier (Validation) Accuracy: 0.9474\n",
      "Bayes Classifier (Test) Accuracy: 0.9386\n"
     ]
    }
   ],
   "source": [
    "import numpy as np\n",
    "import pandas as pd\n",
    "from scipy.stats import multivariate_normal\n",
    "from sklearn.metrics import accuracy_score\n",
    "\n",
    "def bayes_classifier(X_train, y_train, X_test):\n",
    "    \n",
    "    if isinstance(y_train, pd.Series):\n",
    "        y_train = y_train.to_numpy()\n",
    "    \n",
    "    classes = np.unique(y_train)\n",
    "\n",
    "    mean_vectors = {}\n",
    "    covariance_matrices = {}\n",
    "    priors = {}\n",
    "\n",
    "    for c in classes:\n",
    "        X_class = X_train[y_train == c] if isinstance(X_train, np.ndarray) else X_train.loc[y_train == c]\n",
    "        mean_vectors[c] = np.mean(X_class, axis=0)\n",
    "        if X_class.shape[0] > 1: \n",
    "            covariance_matrices[c] = np.cov(X_class, rowvar=False) + np.eye(X_class.shape[1]) \n",
    "        else: \n",
    "            covariance_matrices[c] = np.eye(X_class.shape[1]) \n",
    "        \n",
    "        \n",
    "        priors[c] = X_class.shape[0] / len(y_train)\n",
    "\n",
    "    y_pred = []\n",
    "    for x in (X_test.to_numpy() if isinstance(X_test, pd.DataFrame) else X_test):  \n",
    "        posteriors = {}\n",
    "        for c in classes:\n",
    "            try:\n",
    "                likelihood = multivariate_normal(mean=mean_vectors[c], cov=covariance_matrices[c]).pdf(x)\n",
    "            except np.linalg.LinAlgError:\n",
    "                likelihood = 1e-9 \n",
    "            posteriors[c] = likelihood * priors[c]\n",
    "\n",
    "        y_pred.append(max(posteriors, key=posteriors.get))\n",
    "\n",
    "    return np.array(y_pred)\n",
    "y_valid_pred_bayes = bayes_classifier(X_train, y_train, X_valid)\n",
    "y_test_pred_bayes = bayes_classifier(X_train, y_train, X_test)\n",
    "\n",
    "def evaluate_model(y_true, y_pred, model_name):\n",
    "    accuracy = accuracy_score(y_true, y_pred)\n",
    "    print(f\"{model_name} Accuracy: {accuracy:.4f}\")\n",
    "   \n",
    "evaluate_model(y_valid, y_valid_pred_bayes, \"Bayes Classifier (Validation)\")\n",
    "evaluate_model(y_test, y_test_pred_bayes, \"Bayes Classifier (Test)\")\n",
    "\n"
   ]
  },
  {
   "cell_type": "code",
   "execution_count": 63,
   "id": "47f7c759-a0b8-44f4-bef5-8e5af15387cd",
   "metadata": {},
   "outputs": [
    {
     "name": "stdout",
     "output_type": "stream",
     "text": [
      "Validation\n",
      "Confusion Matrix:   [[71  0]\n",
      " [ 6 37]]\n",
      "Accuracy:  0.9473684210526315\n",
      "Presicion:  1.0\n",
      "Recall:  0.8604651162790697\n",
      "F1:  0.925\n"
     ]
    }
   ],
   "source": [
    "def evaluting_model(y_true,y_pred,model_name):\n",
    "    print(model_name)\n",
    "    print(\"Confusion Matrix:  \",confusion_matrix(y_true,y_pred))\n",
    "    print(\"Accuracy: \" ,accuracy_score(y_true,y_pred))\n",
    "    print(\"Presicion: \",precision_score(y_true,y_pred))\n",
    "    print(\"Recall: \",recall_score(y_true,y_pred))\n",
    "    print(\"F1: \",f1_score(y_true,y_pred))\n",
    "evaluting_model(y_valid,y_valid_pred_bayes,\"Validation\")  "
   ]
  },
  {
   "cell_type": "code",
   "execution_count": 64,
   "id": "1e356de8-e697-4546-9e00-ce34dcb4d8c7",
   "metadata": {},
   "outputs": [
    {
     "name": "stdout",
     "output_type": "stream",
     "text": [
      "test\n",
      "Confusion Matrix:   [[70  2]\n",
      " [ 5 37]]\n",
      "Accuracy:  0.9385964912280702\n",
      "Presicion:  0.9487179487179487\n",
      "Recall:  0.8809523809523809\n",
      "F1:  0.9135802469135802\n"
     ]
    }
   ],
   "source": [
    "def evaluting_model(y_true,y_pred,model_name):\n",
    "    print(model_name)\n",
    "    print(\"Confusion Matrix:  \",confusion_matrix(y_true,y_pred))\n",
    "    print(\"Accuracy: \" ,accuracy_score(y_true,y_pred))\n",
    "    print(\"Presicion: \",precision_score(y_true,y_pred))\n",
    "    print(\"Recall: \",recall_score(y_true,y_pred))\n",
    "    print(\"F1: \",f1_score(y_true,y_pred))\n",
    "evaluting_model(y_test,y_test_pred_bayes,\"test\")  "
   ]
  },
  {
   "cell_type": "code",
   "execution_count": null,
   "id": "6e8d009c-c74f-41b9-99f3-12fed312ca9c",
   "metadata": {},
   "outputs": [],
   "source": []
  }
 ],
 "metadata": {
  "kernelspec": {
   "display_name": "Python 3 (ipykernel)",
   "language": "python",
   "name": "python3"
  },
  "language_info": {
   "codemirror_mode": {
    "name": "ipython",
    "version": 3
   },
   "file_extension": ".py",
   "mimetype": "text/x-python",
   "name": "python",
   "nbconvert_exporter": "python",
   "pygments_lexer": "ipython3",
   "version": "3.10.12"
  }
 },
 "nbformat": 4,
 "nbformat_minor": 5
}
