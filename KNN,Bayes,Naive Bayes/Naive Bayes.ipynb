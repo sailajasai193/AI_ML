{
 "cells": [
  {
   "cell_type": "code",
   "execution_count": 1,
   "id": "0eb39645-9e95-4e93-97f3-458db9e08c59",
   "metadata": {},
   "outputs": [],
   "source": [
    "import pandas as pd\n",
    "import numpy as np\n",
    "from scipy.stats import multivariate_normal\n",
    "from sklearn.neighbors import KNeighborsClassifier\n",
    "from sklearn.naive_bayes import GaussianNB\n",
    "from sklearn.metrics import confusion_matrix, accuracy_score, precision_score, recall_score, f1_score"
   ]
  },
  {
   "cell_type": "code",
   "execution_count": 2,
   "id": "1ad7fafe-10db-418b-9740-149f27e1130b",
   "metadata": {},
   "outputs": [],
   "source": [
    "train_df = pd.read_csv('WDBC_Train.csv')\n",
    "valid_df = pd.read_csv('WDBC_Validation.csv')\n",
    "test_df = pd.read_csv('WDBC_Test.csv')\n",
    "X_train,y_train=train_df.iloc[:,1:],train_df.iloc[:,0]\n",
    "X_valid,y_valid=valid_df.iloc[:,1:],valid_df.iloc[:,0]\n",
    "X_test,y_test=test_df.iloc[:,1:],test_df.iloc[:,0]"
   ]
  },
  {
   "cell_type": "code",
   "execution_count": 5,
   "id": "cb29beed-11ba-4773-83a2-addf5c312d1e",
   "metadata": {},
   "outputs": [
    {
     "name": "stdout",
     "output_type": "stream",
     "text": [
      "Validation\n",
      "Confusion Matrix:   [[70  1]\n",
      " [ 3 40]]\n",
      "Accuracy:  0.9649122807017544\n",
      "Presicion:  0.975609756097561\n",
      "Recall:  0.9302325581395349\n",
      "F1:  0.9523809523809523\n",
      "TEST\n",
      "Confusion Matrix:   [[71  1]\n",
      " [ 4 38]]\n",
      "Accuracy:  0.956140350877193\n",
      "Presicion:  0.9743589743589743\n",
      "Recall:  0.9047619047619048\n",
      "F1:  0.9382716049382716\n"
     ]
    }
   ],
   "source": [
    "nb = GaussianNB()\n",
    "nb.fit(X_train, y_train)\n",
    "\n",
    "y_valid_pred_nb = nb.predict(X_valid)\n",
    "y_test_pred_nb = nb.predict(X_test)\n",
    "def evaluting_model(y_true,y_pred,model_name):\n",
    "    print(model_name)\n",
    "    print(\"Confusion Matrix:  \",confusion_matrix(y_true,y_pred))\n",
    "    print(\"Accuracy: \" ,accuracy_score(y_true,y_pred))\n",
    "    print(\"Presicion: \",precision_score(y_true,y_pred))\n",
    "    print(\"Recall: \",recall_score(y_true,y_pred))\n",
    "    print(\"F1: \",f1_score(y_true,y_pred))\n",
    "evaluting_model(y_valid,y_valid_pred_nb,\"Validation\")  \n",
    "evaluting_model(y_test,y_test_pred_nb,\"TEST\")  "
   ]
  },
  {
   "cell_type": "code",
   "execution_count": null,
   "id": "12bbbd42-bbdb-4eef-8740-66a064437d97",
   "metadata": {},
   "outputs": [],
   "source": []
  }
 ],
 "metadata": {
  "kernelspec": {
   "display_name": "Python 3 (ipykernel)",
   "language": "python",
   "name": "python3"
  },
  "language_info": {
   "codemirror_mode": {
    "name": "ipython",
    "version": 3
   },
   "file_extension": ".py",
   "mimetype": "text/x-python",
   "name": "python",
   "nbconvert_exporter": "python",
   "pygments_lexer": "ipython3",
   "version": "3.10.12"
  }
 },
 "nbformat": 4,
 "nbformat_minor": 5
}
