{
 "cells": [
  {
   "cell_type": "code",
   "execution_count": 1,
   "id": "4d8755eb-ace3-4654-a03b-ba0b431a3112",
   "metadata": {},
   "outputs": [],
   "source": [
    "import pandas as pd\n",
    "import numpy as np\n",
    "from scipy.stats import multivariate_normal\n",
    "from sklearn.neighbors import KNeighborsClassifier\n",
    "from sklearn.naive_bayes import GaussianNB\n",
    "from sklearn.metrics import confusion_matrix, accuracy_score, precision_score, recall_score, f1_score"
   ]
  },
  {
   "cell_type": "code",
   "execution_count": 31,
   "id": "7420b809-bafc-4214-b6cc-5d4b27ca88cb",
   "metadata": {},
   "outputs": [],
   "source": [
    "train_df = pd.read_csv('WDBC_Train.csv')\n",
    "valid_df = pd.read_csv('WDBC_Validation.csv')\n",
    "test_df = pd.read_csv('WDBC_Test.csv')\n",
    "X_train,y_train=train_df.iloc[:,1:],train_df.iloc[:,0]\n",
    "X_valid,y_valid=valid_df.iloc[:,1:],valid_df.iloc[:,0]\n",
    "X_test,y_test=test_df.iloc[:,1:],test_df.iloc[:,0]"
   ]
  },
  {
   "cell_type": "code",
   "execution_count": 32,
   "id": "197780f7-7b5b-4b39-b116-da707f67b971",
   "metadata": {},
   "outputs": [
    {
     "name": "stdout",
     "output_type": "stream",
     "text": [
      "Validation\n",
      "Confusion Matrix:   [[69  2]\n",
      " [ 6 37]]\n",
      "Accuracy:  0.9298245614035088\n",
      "Presicion:  0.9487179487179487\n",
      "Recall:  0.8604651162790697\n",
      "F1:  0.9024390243902439\n"
     ]
    }
   ],
   "source": [
    "knn=KNeighborsClassifier(n_neighbors=7)\n",
    "knn.fit(X_train,y_train)\n",
    "y_valid_pred_knn=knn.predict(X_valid)\n",
    "y_test_pred_knn=knn.predict(X_test)\n",
    "def evaluting_model(y_true,y_pred,model_name):\n",
    "    print(model_name)\n",
    "    print(\"Confusion Matrix:  \",confusion_matrix(y_true,y_pred))\n",
    "    print(\"Accuracy: \" ,accuracy_score(y_true,y_pred))\n",
    "    print(\"Presicion: \",precision_score(y_true,y_pred))\n",
    "    print(\"Recall: \",recall_score(y_true,y_pred))\n",
    "    print(\"F1: \",f1_score(y_true,y_pred))\n",
    "evaluting_model(y_valid,y_valid_pred_knn,\"Validation\")  \n"
   ]
  },
  {
   "cell_type": "code",
   "execution_count": 34,
   "id": "68e26c05-4fb5-4584-99fa-d226f87e5c80",
   "metadata": {},
   "outputs": [
    {
     "name": "stdout",
     "output_type": "stream",
     "text": [
      "TEST\n",
      "Confusion Matrix:   [[69  3]\n",
      " [ 4 38]]\n",
      "Accuracy:  0.9385964912280702\n",
      "Presicion:  0.926829268292683\n",
      "Recall:  0.9047619047619048\n",
      "F1:  0.9156626506024096\n"
     ]
    }
   ],
   "source": [
    "knn=KNeighborsClassifier(n_neighbors=7)\n",
    "knn.fit(X_train,y_train)\n",
    "y_valid_pred_knn=knn.predict(X_valid)\n",
    "y_test_pred_knn=knn.predict(X_test)\n",
    "def evaluting_model(y_true,y_pred,model_name):\n",
    "    print(model_name)\n",
    "    print(\"Confusion Matrix:  \",confusion_matrix(y_true,y_pred))\n",
    "    print(\"Accuracy: \" ,accuracy_score(y_true,y_pred))\n",
    "    print(\"Presicion: \",precision_score(y_true,y_pred))\n",
    "    print(\"Recall: \",recall_score(y_true,y_pred))\n",
    "    print(\"F1: \",f1_score(y_true,y_pred))\n",
    "evaluting_model(y_test,y_test_pred_knn,\"TEST\") \n"
   ]
  },
  {
   "cell_type": "code",
   "execution_count": null,
   "id": "39037407-2b96-4dcf-b314-ca39c3a5fd36",
   "metadata": {},
   "outputs": [],
   "source": []
  }
 ],
 "metadata": {
  "kernelspec": {
   "display_name": "Python 3 (ipykernel)",
   "language": "python",
   "name": "python3"
  },
  "language_info": {
   "codemirror_mode": {
    "name": "ipython",
    "version": 3
   },
   "file_extension": ".py",
   "mimetype": "text/x-python",
   "name": "python",
   "nbconvert_exporter": "python",
   "pygments_lexer": "ipython3",
   "version": "3.10.12"
  }
 },
 "nbformat": 4,
 "nbformat_minor": 5
}
