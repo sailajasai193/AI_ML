{
 "cells": [
  {
   "cell_type": "code",
   "execution_count": 4,
   "id": "a0ff3d5b-1d90-4fe2-b34f-83127ffb729c",
   "metadata": {},
   "outputs": [],
   "source": [
    "import pandas as pd\n",
    "import numpy as np\n",
    "import matplotlib\n",
    "import matplotlib.pyplot as plt\n",
    "import math\n",
    "from statsmodels.tsa.stattools import acf\n",
    "from statsmodels.tsa.ar_model import AutoReg\n",
    "from statsmodels.graphics.tsaplots import plot_acf\n",
    "from scipy.stats import pearsonr\n",
    "from sklearn.metrics import mean_absolute_percentage_error, mean_squared_error\n"
   ]
  },
  {
   "cell_type": "code",
   "execution_count": 2,
   "id": "ddc5a08d-f35c-4a4e-9a6e-355e418b38db",
   "metadata": {},
   "outputs": [],
   "source": [
    "df=pd.read_csv('daily_covid_cases.csv')\n",
    "train_size = int(len(df) * 0.65)\n",
    "train, test = df.iloc[:train_size], df.iloc[train_size:]"
   ]
  },
  {
   "cell_type": "code",
   "execution_count": 11,
   "id": "fbdf0b0d-5848-4af0-82e5-3580d7bf4f65",
   "metadata": {},
   "outputs": [
    {
     "name": "stdout",
     "output_type": "stream",
     "text": [
      "Optimal lag based on ACF heuristic: 60\n",
      "\n",
      "Optimal AR(60) Model Performance:\n",
      "RMSE: 1860.87 µg/m³\n",
      "MAPE: nan%\n"
     ]
    }
   ],
   "source": [
    "# Function to find optimal lag using ACF heuristic\n",
    "def find_optimal_lag(series, max_lag=60):\n",
    "    acf_vals = acf(series, nlags=max_lag)\n",
    "    threshold = 2 / np.sqrt(len(series))\n",
    "    significant_lags = np.where(np.abs(acf_vals) > threshold)[0]\n",
    "    # Exclude lag 0 and return max significant lag\n",
    "    significant_lags = significant_lags[significant_lags > 0]\n",
    "    return significant_lags[-1] if len(significant_lags) > 0 else 1\n",
    "\n",
    "# Find optimal lag\n",
    "optimal_lag = find_optimal_lag(train['new_cases'])\n",
    "print(f\"Optimal lag based on ACF heuristic: {optimal_lag}\")\n",
    "\n",
    "# Train AR model with optimal lag\n",
    "model = AutoReg(train['new_cases'], lags=optimal_lag, old_names=False).fit()\n",
    "\n",
    "\n",
    "# Calculate metrics\n",
    "def safe_mape(actual, pred):\n",
    "    ape = np.abs((actual - pred) / actual)\n",
    "    ape = ape.replace([np.inf, -np.inf], np.nan).dropna()\n",
    "    return np.mean(ape) * 100 if len(ape) > 0 else np.nan\n",
    "\n",
    "rmse_optimal = np.sqrt(mean_squared_error(test['new_cases'], predictions))\n",
    "mape_optimal = safe_mape(test['new_cases'], pd.Series(predictions))\n",
    "\n",
    "print(f\"\\nOptimal AR({optimal_lag}) Model Performance:\")\n",
    "print(f\"RMSE: {rmse_optimal:.2f} µg/m³\")\n",
    "print(f\"MAPE: {mape_optimal:.2f}%\")\n"
   ]
  },
  {
   "cell_type": "code",
   "execution_count": null,
   "id": "a24920ad-4c9d-4719-b4f9-c9d60442d3e3",
   "metadata": {},
   "outputs": [],
   "source": []
  }
 ],
 "metadata": {
  "kernelspec": {
   "display_name": "Python 3 (ipykernel)",
   "language": "python",
   "name": "python3"
  },
  "language_info": {
   "codemirror_mode": {
    "name": "ipython",
    "version": 3
   },
   "file_extension": ".py",
   "mimetype": "text/x-python",
   "name": "python",
   "nbconvert_exporter": "python",
   "pygments_lexer": "ipython3",
   "version": "3.10.12"
  }
 },
 "nbformat": 4,
 "nbformat_minor": 5
}
