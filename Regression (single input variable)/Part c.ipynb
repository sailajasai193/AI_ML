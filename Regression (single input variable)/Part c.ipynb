{
 "cells": [
  {
   "cell_type": "code",
   "execution_count": 3,
   "id": "6e4b0352-9d18-4090-bab7-216a58b867f5",
   "metadata": {},
   "outputs": [],
   "source": [
    "import torch\n",
    "import torch.nn as nn\n",
    "import torch.optim as optim\n",
    "import numpy as np\n",
    "import pandas as pd\n",
    "import matplotlib.pyplot as plt\n",
    "from sklearn.model_selection import train_test_split\n",
    "from sklearn.preprocessing import StandardScaler\n",
    "from sklearn.metrics import mean_squared_error"
   ]
  },
  {
   "cell_type": "code",
   "execution_count": 4,
   "id": "55413e30-cf62-474b-8f56-da08c601e89a",
   "metadata": {},
   "outputs": [
    {
     "name": "stdout",
     "output_type": "stream",
     "text": [
      "Hidden Neurons: 8, Validation RMSE: 0.7677\n",
      "Hidden Neurons: 16, Validation RMSE: 0.7673\n",
      "Hidden Neurons: 32, Validation RMSE: 0.7667\n",
      "Hidden Neurons: 64, Validation RMSE: 0.7660\n",
      "\n",
      "Best Model: 64 neurons\n",
      "Train RMSE: 0.7775\n",
      "Validation RMSE: 0.7660\n",
      "Test RMSE: 0.7494\n"
     ]
    },
    {
     "data": {
      "image/png": "[encoded data removed]",
      "text/plain": [
       "<Figure size 800x500 with 1 Axes>"
      ]
     },
     "metadata": {},
     "output_type": "display_data"
    }
   ],
   "source": [
    "df=pd.read_csv('airquality_updated.csv')\n",
    "X=df[['PT08.S1(CO)']].values\n",
    "y=df['CO'].values\n",
    "X_train, X_temp, y_train, y_temp = train_test_split(X, y, test_size=0.4, random_state=42)\n",
    "X_val, X_test, y_val, y_test = train_test_split(X_temp, y_temp, test_size=0.5, random_state=42)\n",
    "scaler = StandardScaler()\n",
    "X_train = scaler.fit_transform(X_train)\n",
    "X_val = scaler.transform(X_val)\n",
    "X_test = scaler.transform(X_test)\n",
    "\n",
    "X_train_torch = torch.tensor(X_train, dtype=torch.float32)\n",
    "y_train_torch = torch.tensor(y_train, dtype=torch.float32).view(-1, 1)\n",
    "\n",
    "X_val_torch = torch.tensor(X_val, dtype=torch.float32)\n",
    "y_val_torch = torch.tensor(y_val, dtype=torch.float32).view(-1, 1)\n",
    "\n",
    "X_test_torch = torch.tensor(X_test, dtype=torch.float32)\n",
    "y_test_torch = torch.tensor(y_test, dtype=torch.float32).view(-1, 1)\n",
    "\n",
    "class NeuralNet(nn.Module):\n",
    "    def __init__(self, hidden_size):\n",
    "        super(NeuralNet, self).__init__()\n",
    "        self.hidden = nn.Linear(1, hidden_size)\n",
    "        self.activation = nn.Sigmoid()\n",
    "        self.output = nn.Linear(hidden_size, 1)\n",
    "    \n",
    "    def forward(self, x):\n",
    "        x = self.hidden(x)\n",
    "        x = self.activation(x)\n",
    "        x = self.output(x)\n",
    "        return x\n",
    "\n",
    "hidden_sizes = [8, 16, 32, 64]\n",
    "best_model = None\n",
    "best_rmse_val = float('inf')\n",
    "train_losses = {}\n",
    "for hidden_size in hidden_sizes:\n",
    "    model = NeuralNet(hidden_size)\n",
    "    criterion = nn.MSELoss()\n",
    "    optimizer = optim.SGD(model.parameters(), lr=0.01, momentum=0.9)\n",
    "    \n",
    "    num_epochs = 500\n",
    "    loss_history = []\n",
    "\n",
    "    for epoch in range(num_epochs):\n",
    "        model.train()\n",
    "        optimizer.zero_grad()\n",
    "        y_pred_train = model(X_train_torch)\n",
    "        loss = criterion(y_pred_train, y_train_torch)\n",
    "        loss.backward()\n",
    "        optimizer.step()\n",
    "        \n",
    "        loss_history.append(loss.item())\n",
    "\n",
    "    model.eval()\n",
    "    with torch.no_grad():\n",
    "        y_pred_val = model(X_val_torch)\n",
    "        rmse_val = np.sqrt(mean_squared_error(y_val, y_pred_val.numpy()))\n",
    "\n",
    "    print(f\"Hidden Neurons: {hidden_size}, Validation RMSE: {rmse_val:.4f}\")\n",
    "\n",
    "    \n",
    "    if rmse_val < best_rmse_val:\n",
    "        best_rmse_val = rmse_val\n",
    "        best_model = model\n",
    "        best_hidden_size = hidden_size\n",
    "        best_loss_history = loss_history\n",
    "\n",
    "\n",
    "best_model.eval()\n",
    "with torch.no_grad():\n",
    "    y_pred_train = best_model(X_train_torch)\n",
    "    y_pred_val = best_model(X_val_torch)\n",
    "    y_pred_test = best_model(X_test_torch)\n",
    "\n",
    "    rmse_train = np.sqrt(mean_squared_error(y_train, y_pred_train.numpy()))\n",
    "    rmse_val = np.sqrt(mean_squared_error(y_val, y_pred_val.numpy()))\n",
    "    rmse_test = np.sqrt(mean_squared_error(y_test, y_pred_test.numpy()))\n",
    "\n",
    "print(f\"\\nBest Model: {best_hidden_size} neurons\")\n",
    "print(f\"Train RMSE: {rmse_train:.4f}\")\n",
    "print(f\"Validation RMSE: {rmse_val:.4f}\")\n",
    "print(f\"Test RMSE: {rmse_test:.4f}\")\n",
    "plt.figure(figsize=(8, 5))\n",
    "plt.plot(best_loss_history, label=\"Training Loss\", color=\"blue\")\n",
    "plt.xlabel(\"Epochs\")\n",
    "plt.ylabel(\"Loss (MSE)\")\n",
    "plt.title(f\"Training Loss vs. Epochs (Best Model: {best_hidden_size} neurons)\")\n",
    "plt.legend()\n",
    "plt.show()"
   ]
  },
  {
   "cell_type": "code",
   "execution_count": null,
   "id": "1e40898f-c685-4649-b84c-aa91bc99f45c",
   "metadata": {},
   "outputs": [],
   "source": []
  }
 ],
 "metadata": {
  "kernelspec": {
   "display_name": "Python 3 (ipykernel)",
   "language": "python",
   "name": "python3"
  },
  "language_info": {
   "codemirror_mode": {
    "name": "ipython",
    "version": 3
   },
   "file_extension": ".py",
   "mimetype": "text/x-python",
   "name": "python",
   "nbconvert_exporter": "python",
   "pygments_lexer": "ipython3",
   "version": "3.10.12"
  }
 },
 "nbformat": 4,
 "nbformat_minor": 5
}
