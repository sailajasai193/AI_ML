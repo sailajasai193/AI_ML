{
 "cells": [
  {
   "cell_type": "code",
   "execution_count": 200,
   "id": "7d708521-4f68-4575-84b3-b3ee369d950b",
   "metadata": {},
   "outputs": [],
   "source": [
    "import torch\n",
    "import torch.nn as nn\n",
    "import torch.optim as optim\n",
    "import pandas as pd\n",
    "import numpy as np\n",
    "from sklearn.preprocessing import StandardScaler\n",
    "from sklearn.metrics import confusion_matrix, accuracy_score, precision_score, recall_score, f1_score"
   ]
  },
  {
   "cell_type": "code",
   "execution_count": 7,
   "id": "c40097fc-e688-45b0-9ae8-94c39b394b55",
   "metadata": {},
   "outputs": [],
   "source": [
    "train_data = pd.read_csv('WDBC_Scaled_Train.csv')\n",
    "validation_data = pd.read_csv('WDBC_PCA10_Validation.csv')\n",
    "test_data = pd.read_csv('WDBC_Scaled_Test.csv')"
   ]
  },
  {
   "cell_type": "code",
   "execution_count": 59,
   "id": "bba2731f-2056-41a1-ab4b-661ce0d4d5da",
   "metadata": {},
   "outputs": [],
   "source": [
    "X_train = train_data.iloc[:, 1:].values\n",
    "y_train = train_data.iloc[:, 0].values\n",
    "X_val = validation_data.iloc[:, 1:].values\n",
    "y_val = validation_data.iloc[:, 0].values\n",
    "X_test = test_data.iloc[:, 1:].values\n",
    "y_test = test_data.iloc[:, 0].values\n"
   ]
  },
  {
   "cell_type": "code",
   "execution_count": 211,
   "id": "e322aeda-555d-484f-ab54-2fcbf91924f3",
   "metadata": {},
   "outputs": [],
   "source": [
    "X_train, y_train = torch.tensor(X_train, dtype=torch.float32), torch.tensor(y_train, dtype=torch.float32).view(-1, 1)\n",
    "X_val, y_val = torch.tensor(X_val, dtype=torch.float32), torch.tensor(y_val, dtype=torch.float32).view(-1, 1)\n",
    "X_test, y_test = torch.tensor(X_test, dtype=torch.float32), torch.tensor(y_test, dtype=torch.float32).view(-1, 1)"
   ]
  },
  {
   "cell_type": "code",
   "execution_count": 216,
   "id": "536d1c1c-494a-4548-9fde-ede894e63005",
   "metadata": {},
   "outputs": [
    {
     "name": "stdout",
     "output_type": "stream",
     "text": [
      "NeuralNet(\n",
      "  (model): Sequential(\n",
      "    (0): Linear(in_features=30, out_features=64, bias=True)\n",
      "    (1): Sigmoid()\n",
      "    (2): Linear(in_features=64, out_features=1, bias=True)\n",
      "    (3): Sigmoid()\n",
      "  )\n",
      ")\n",
      "NeuralNet(\n",
      "  (model): Sequential(\n",
      "    (0): Linear(in_features=30, out_features=64, bias=True)\n",
      "    (1): Sigmoid()\n",
      "    (2): Linear(in_features=64, out_features=1, bias=True)\n",
      "    (3): Sigmoid()\n",
      "  )\n",
      ")\n",
      "NeuralNet(\n",
      "  (model): Sequential(\n",
      "    (0): Linear(in_features=30, out_features=64, bias=True)\n",
      "    (1): Sigmoid()\n",
      "    (2): Linear(in_features=64, out_features=1, bias=True)\n",
      "    (3): Sigmoid()\n",
      "  )\n",
      ")\n",
      "NeuralNet(\n",
      "  (model): Sequential(\n",
      "    (0): Linear(in_features=30, out_features=64, bias=True)\n",
      "    (1): Sigmoid()\n",
      "    (2): Linear(in_features=64, out_features=1, bias=True)\n",
      "    (3): Sigmoid()\n",
      "  )\n",
      ")\n"
     ]
    }
   ],
   "source": [
    "class NeuralNet(nn.Module):\n",
    "  def __init__(self, input_size, hidden1):\n",
    "     super(NeuralNet, self).__init__()\n",
    "     self.model = nn.Sequential(\n",
    "           nn.Linear(input_size, hidden1),\n",
    "           nn.Sigmoid(),\n",
    "           nn.Linear(hidden1, 1),\n",
    "           nn.Sigmoid(),\n",
    ")\n",
    "for i in {64,10,100,512}:\n",
    "  model = NeuralNet(input_size=30, hidden1=64)\n",
    "  print(model)\n",
    "def forward(self, x):\n",
    "        return self.model(x)"
   ]
  },
  {
   "cell_type": "code",
   "execution_count": 217,
   "id": "4029a8fa-c8ee-40ee-a794-fc5f51c11214",
   "metadata": {},
   "outputs": [
    {
     "name": "stdout",
     "output_type": "stream",
     "text": [
      "NeuralNet(\n",
      "  (layers): Sequential(\n",
      "    (0): Linear(in_features=30, out_features=64, bias=True)\n",
      "    (1): Sigmoid()\n",
      "    (2): Linear(in_features=64, out_features=16, bias=True)\n",
      "    (3): Sigmoid()\n",
      "    (4): Linear(in_features=16, out_features=1, bias=True)\n",
      "    (5): Sigmoid()\n",
      "  )\n",
      ")\n",
      "NeuralNet(\n",
      "  (layers): Sequential(\n",
      "    (0): Linear(in_features=30, out_features=128, bias=True)\n",
      "    (1): Sigmoid()\n",
      "    (2): Linear(in_features=128, out_features=32, bias=True)\n",
      "    (3): Sigmoid()\n",
      "    (4): Linear(in_features=32, out_features=1, bias=True)\n",
      "    (5): Sigmoid()\n",
      "  )\n",
      ")\n",
      "NeuralNet(\n",
      "  (layers): Sequential(\n",
      "    (0): Linear(in_features=30, out_features=256, bias=True)\n",
      "    (1): Sigmoid()\n",
      "    (2): Linear(in_features=256, out_features=64, bias=True)\n",
      "    (3): Sigmoid()\n",
      "    (4): Linear(in_features=64, out_features=1, bias=True)\n",
      "    (5): Sigmoid()\n",
      "  )\n",
      ")\n",
      "NeuralNet(\n",
      "  (layers): Sequential(\n",
      "    (0): Linear(in_features=30, out_features=512, bias=True)\n",
      "    (1): Sigmoid()\n",
      "    (2): Linear(in_features=512, out_features=128, bias=True)\n",
      "    (3): Sigmoid()\n",
      "    (4): Linear(in_features=128, out_features=1, bias=True)\n",
      "    (5): Sigmoid()\n",
      "  )\n",
      ")\n"
     ]
    }
   ],
   "source": [
    "class NeuralNet(nn.Module):\n",
    "  def __init__(self, input_size, hidden1,hidden2):\n",
    "     super().__init__()\n",
    "     self.layers = nn.Sequential(\n",
    "           nn.Linear(input_size, hidden1),\n",
    "           nn.Sigmoid(),\n",
    "           nn.Linear(hidden1, hidden2),\n",
    "           nn.Sigmoid(),\n",
    "           nn.Linear(hidden2, 1),\n",
    "           nn.Sigmoid(),\n",
    ")\n",
    "def forward(self, x):\n",
    "        return self.layers(x)\n",
    "    \n",
    "model1 = NeuralNet(input_size=30, hidden1=64,hidden2=16)\n",
    "criterion = nn.MSELoss() # SSE Loss\n",
    "optimizer = optim.SGD(model.parameters(), lr=0.01)\n",
    "print(model1)\n",
    "\n",
    "model2 = NeuralNet(input_size=30, hidden1=128,hidden2=32)\n",
    "criterion = nn.MSELoss() # SSE Loss\n",
    "optimizer = optim.SGD(model.parameters(), lr=0.01)\n",
    "print(model2)\n",
    "\n",
    "model3 = NeuralNet(input_size=30, hidden1=256,hidden2=64)\n",
    "criterion = nn.MSELoss() # SSE Loss\n",
    "optimizer = optim.SGD(model.parameters(), lr=0.01)\n",
    "print(model3)\n",
    "\n",
    "model4 = NeuralNet(input_size=30, hidden1=512,hidden2=128)\n",
    "criterion = nn.MSELoss() # SSE Loss\n",
    "optimizer = optim.SGD(model.parameters(), lr=0.01)\n",
    "print(model4)"
   ]
  },
  {
   "cell_type": "code",
   "execution_count": null,
   "id": "4eeee9ef-0e65-48a5-a1d5-b2ea92cfdda7",
   "metadata": {},
   "outputs": [],
   "source": []
  }
 ],
 "metadata": {
  "kernelspec": {
   "display_name": "Python 3 (ipykernel)",
   "language": "python",
   "name": "python3"
  },
  "language_info": {
   "codemirror_mode": {
    "name": "ipython",
    "version": 3
   },
   "file_extension": ".py",
   "mimetype": "text/x-python",
   "name": "python",
   "nbconvert_exporter": "python",
   "pygments_lexer": "ipython3",
   "version": "3.10.12"
  }
 },
 "nbformat": 4,
 "nbformat_minor": 5
}
