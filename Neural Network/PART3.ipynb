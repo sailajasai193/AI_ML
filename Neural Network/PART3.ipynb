{
 "cells": [
  {
   "cell_type": "code",
   "execution_count": 50,
   "id": "3c2730f7-cb01-4e9e-a5f5-d6bfd2312014",
   "metadata": {},
   "outputs": [],
   "source": [
    "import torch\n",
    "import torch.nn as nn\n",
    "import torch.optim as optim\n",
    "import matplotlib.pyplot as plt\n",
    "import pandas as pd\n",
    "from sklearn.preprocessing import StandardScaler\n",
    "from sklearn.metrics import confusion_matrix, accuracy_score, precision_score, recall_score, f1_score\n",
    "from torch.utils.data import Dataset \n",
    "from torch.utils.data import DataLoader"
   ]
  },
  {
   "cell_type": "code",
   "execution_count": 26,
   "id": "fb0bf247-7fbc-461e-bab6-9bcf6519773f",
   "metadata": {},
   "outputs": [],
   "source": [
    "train_data = pd.read_csv('WDBC_Scaled_Train.csv')\n",
    "validation_data = pd.read_csv('WDBC_Scaled_Validation.csv')\n",
    "test_data = pd.read_csv('WDBC_Scaled_Test.csv')"
   ]
  },
  {
   "cell_type": "code",
   "execution_count": 27,
   "id": "fc05b64c-ccf6-4110-bd43-99fee845409c",
   "metadata": {},
   "outputs": [],
   "source": [
    "X_train = train_data.iloc[:, 1:].values\n",
    "y_train = train_data.iloc[:, 0].values\n",
    "X_val = validation_data.iloc[:, 1:].values\n",
    "y_val = validation_data.iloc[:, 0].values\n",
    "X_test = test_data.iloc[:, 1:].values\n",
    "y_test = test_data.iloc[:, 0].values\n",
    "\n",
    "\n",
    "X_train = torch.tensor(X_train, dtype=torch.float32)\n",
    "y_train = torch.tensor(y_train, dtype=torch.float32).view(-1, 1)\n",
    "\n",
    "X_val = torch.tensor(X_val, dtype=torch.float32)\n",
    "y_val = torch.tensor(y_val, dtype=torch.float32).view(-1, 1)\n",
    "\n",
    "X_test = torch.tensor(X_test, dtype=torch.float32)\n",
    "y_test = torch.tensor(y_test, dtype=torch.float32).view(-1, 1)\n"
   ]
  },
  {
   "cell_type": "code",
   "execution_count": 38,
   "id": "7ddcedcc-4085-439e-8a0c-f5070c5716dd",
   "metadata": {},
   "outputs": [
    {
     "name": "stdout",
     "output_type": "stream",
     "text": [
      "Epoch 0, Loss: 0.2416541576385498\n",
      "Epoch 100, Loss: 0.23350712656974792\n",
      "Epoch 200, Loss: 0.2320113629102707\n",
      "Epoch 300, Loss: 0.2311778962612152\n",
      "Epoch 400, Loss: 0.23040249943733215\n",
      "Epoch 500, Loss: 0.22961077094078064\n",
      "Epoch 600, Loss: 0.22878716886043549\n",
      "Epoch 700, Loss: 0.22792275249958038\n",
      "Epoch 800, Loss: 0.22700896859169006\n",
      "Epoch 900, Loss: 0.22603672742843628\n"
     ]
    }
   ],
   "source": [
    "#FOR TWOLAYER (128,32)\n",
    "model = nn.Sequential(\n",
    "    nn.Linear(30, 128),\n",
    "    nn.Sigmoid(),\n",
    "    nn.Linear(128, 32),\n",
    "    nn.Sigmoid(),\n",
    "    nn.Linear(32, 1),\n",
    "    nn.Sigmoid()\n",
    ")\n",
    "criterion = nn.MSELoss()\n",
    "optimizer = optim.SGD(model.parameters(), lr=0.01)\n",
    "epochs = 1000\n",
    "for epoch in range(epochs):\n",
    "    optimizer.zero_grad() \n",
    "    output = model(X_train) \n",
    "    loss = criterion(output, y_train)  \n",
    "    loss.backward()  \n",
    "    optimizer.step()  \n",
    "    if epoch % 100 == 0:\n",
    "        print(f\"Epoch {epoch}, Loss: {loss.item()}\")"
   ]
  },
  {
   "cell_type": "code",
   "execution_count": 35,
   "id": "8cdeeffa-1212-4ac8-9049-61435ff744f3",
   "metadata": {},
   "outputs": [
    {
     "name": "stdout",
     "output_type": "stream",
     "text": [
      "Epoch 0, Loss: 0.2865542769432068\n",
      "Epoch 100, Loss: 0.24803787469863892\n",
      "Epoch 200, Loss: 0.23679868876934052\n",
      "Epoch 300, Loss: 0.2333182543516159\n",
      "Epoch 400, Loss: 0.23193864524364471\n",
      "Epoch 500, Loss: 0.23114940524101257\n",
      "Epoch 600, Loss: 0.2305239737033844\n",
      "Epoch 700, Loss: 0.22993363440036774\n",
      "Epoch 800, Loss: 0.22933633625507355\n",
      "Epoch 900, Loss: 0.22871598601341248\n"
     ]
    }
   ],
   "source": [
    " #FOR TWOLAYER (64,16)\n",
    "model = nn.Sequential(\n",
    "    nn.Linear(30, 64),\n",
    "    nn.Sigmoid(),\n",
    "    nn.Linear(64, 16),\n",
    "    nn.Sigmoid(),\n",
    "    nn.Linear(16, 1),\n",
    "    nn.Sigmoid()\n",
    ")\n",
    "criterion = nn.MSELoss()\n",
    "optimizer = optim.SGD(model.parameters(), lr=0.01)\n",
    "epochs = 1000\n",
    "for epoch in range(epochs):\n",
    "    optimizer.zero_grad() \n",
    "    output = model(X_train) \n",
    "    loss = criterion(output, y_train)  \n",
    "    loss.backward()  \n",
    "    optimizer.step()  \n",
    "    if epoch % 100 == 0:\n",
    "        print(f\"Epoch {epoch}, Loss: {loss.item()}\")"
   ]
  },
  {
   "cell_type": "code",
   "execution_count": 39,
   "id": "431df7fa-9bc5-4214-b6f9-d6985843bdd9",
   "metadata": {},
   "outputs": [
    {
     "name": "stdout",
     "output_type": "stream",
     "text": [
      "Epoch 0, Loss: 0.2730412483215332\n",
      "Epoch 100, Loss: 0.23519307374954224\n",
      "Epoch 200, Loss: 0.23340129852294922\n",
      "Epoch 300, Loss: 0.2320803850889206\n",
      "Epoch 400, Loss: 0.23075182735919952\n",
      "Epoch 500, Loss: 0.22938711941242218\n",
      "Epoch 600, Loss: 0.2279653698205948\n",
      "Epoch 700, Loss: 0.2264651358127594\n",
      "Epoch 800, Loss: 0.22486408054828644\n",
      "Epoch 900, Loss: 0.22313863039016724\n"
     ]
    }
   ],
   "source": [
    "#FOR TWOLAYER (256,64)\n",
    "model = nn.Sequential(\n",
    "    nn.Linear(30, 256),\n",
    "    nn.Sigmoid(),\n",
    "    nn.Linear(256, 64),\n",
    "    nn.Sigmoid(),\n",
    "    nn.Linear(64, 1),\n",
    "    nn.Sigmoid()\n",
    ")\n",
    "criterion = nn.MSELoss()\n",
    "optimizer = optim.SGD(model.parameters(), lr=0.01)\n",
    "epochs = 1000\n",
    "for epoch in range(epochs):\n",
    "    optimizer.zero_grad() \n",
    "    output = model(X_train) \n",
    "    loss = criterion(output, y_train)  \n",
    "    loss.backward()  \n",
    "    optimizer.step()  \n",
    "    if epoch % 100 == 0:\n",
    "        print(f\"Epoch {epoch}, Loss: {loss.item()}\")"
   ]
  },
  {
   "cell_type": "code",
   "execution_count": 54,
   "id": "fdb7879d-1720-4c41-b0b1-26f7b9dceee2",
   "metadata": {},
   "outputs": [
    {
     "name": "stdout",
     "output_type": "stream",
     "text": [
      "Epoch 0, Loss: 0.2734960913658142\n",
      "Epoch 100, Loss: 0.2297828495502472\n",
      "Epoch 200, Loss: 0.22639033198356628\n",
      "Epoch 300, Loss: 0.2228313386440277\n",
      "Epoch 400, Loss: 0.2190062403678894\n",
      "Epoch 500, Loss: 0.21482352912425995\n",
      "Epoch 600, Loss: 0.2101956158876419\n",
      "Epoch 700, Loss: 0.20504260063171387\n",
      "Epoch 800, Loss: 0.19929829239845276\n",
      "Epoch 900, Loss: 0.19291914999485016\n"
     ]
    }
   ],
   "source": [
    "#FOR TWOLAYER (512,128)\n",
    "model = nn.Sequential(\n",
    "    nn.Linear(30, 512),\n",
    "    nn.Sigmoid(),\n",
    "    nn.Linear(512, 128),\n",
    "    nn.Sigmoid(),\n",
    "    nn.Linear(128, 1),\n",
    "    nn.Sigmoid()\n",
    ")\n",
    "criterion = nn.MSELoss()\n",
    "optimizer = optim.SGD(model.parameters(), lr=0.01)\n",
    "epochs = 1000\n",
    "for epoch in range(epochs):\n",
    "    optimizer.zero_grad() \n",
    "    output = model(X_train) \n",
    "    loss = criterion(output, y_train)  \n",
    "    loss.backward()  \n",
    "    optimizer.step()  \n",
    "    if epoch % 100 == 0:\n",
    "        print(f\"Epoch {epoch}, Loss: {loss.item()}\")"
   ]
  },
  {
   "cell_type": "code",
   "execution_count": 42,
   "id": "e4921672-bae0-4830-bc45-ebd5a0815274",
   "metadata": {},
   "outputs": [
    {
     "name": "stdout",
     "output_type": "stream",
     "text": [
      "Epoch 0, Loss: 0.26362818479537964\n",
      "Epoch 100, Loss: 0.23900118470191956\n",
      "Epoch 200, Loss: 0.22438882291316986\n",
      "Epoch 300, Loss: 0.2136954665184021\n",
      "Epoch 400, Loss: 0.2044532299041748\n",
      "Epoch 500, Loss: 0.19571752846240997\n",
      "Epoch 600, Loss: 0.18713311851024628\n",
      "Epoch 700, Loss: 0.17859040200710297\n",
      "Epoch 800, Loss: 0.17009440064430237\n",
      "Epoch 900, Loss: 0.1617056429386139\n",
      "Confusion Matrix:\n",
      " [[72  0]\n",
      " [27 15]]\n",
      "Accuracy: 0.7632, Precision: 1.0000, Recall: 0.3571, F1-score: 0.5263\n"
     ]
    }
   ],
   "source": [
    "   ####SINGLE LAYTER(10)\n",
    "model = nn.Sequential(\n",
    "    nn.Linear(30, 10),\n",
    "    nn.Sigmoid(),\n",
    "    nn.Linear(10, 1),\n",
    "    nn.Sigmoid()\n",
    ")\n",
    "criterion = nn.MSELoss()\n",
    "optimizer = optim.SGD(model.parameters(), lr=0.01)\n",
    "epochs = 1000\n",
    "for epoch in range(epochs):\n",
    "    optimizer.zero_grad() \n",
    "    output = model(X_train) \n",
    "    loss = criterion(output, y_train)  \n",
    "    loss.backward()  \n",
    "    optimizer.step()  \n",
    "    if epoch % 100 == 0:\n",
    "        print(f\"Epoch {epoch}, Loss: {loss.item()}\")\n",
    "\n",
    "\n",
    "with torch.no_grad():\n",
    "    y_val_pred = model(X_val)\n",
    "    y_test_pred = model(X_test)\n",
    "\n",
    "\n",
    "y_val_pred = (y_val_pred >= 0.5).float()\n",
    "y_test_pred = (y_test_pred >= 0.5).float()"
   ]
  },
  {
   "cell_type": "code",
   "execution_count": 43,
   "id": "a95ad26a-1d47-46f2-917e-dffa7cda4938",
   "metadata": {},
   "outputs": [
    {
     "name": "stdout",
     "output_type": "stream",
     "text": [
      "Epoch 0, Loss: 0.26461803913116455\n",
      "Epoch 100, Loss: 0.1935957670211792\n",
      "Epoch 200, Loss: 0.17029450833797455\n",
      "Epoch 300, Loss: 0.15045613050460815\n",
      "Epoch 400, Loss: 0.13383536040782928\n",
      "Epoch 500, Loss: 0.12008731812238693\n",
      "Epoch 600, Loss: 0.10878905653953552\n",
      "Epoch 700, Loss: 0.09950749576091766\n",
      "Epoch 800, Loss: 0.0918484553694725\n",
      "Epoch 900, Loss: 0.08547909557819366\n"
     ]
    }
   ],
   "source": [
    "model = nn.Sequential(\n",
    "    nn.Linear(30, 100),\n",
    "    nn.Sigmoid(),\n",
    "    nn.Linear(100, 1),\n",
    "    nn.Sigmoid()\n",
    ")\n",
    "criterion = nn.MSELoss()\n",
    "optimizer = optim.SGD(model.parameters(), lr=0.01)\n",
    "epochs = 1000\n",
    "for epoch in range(epochs):\n",
    "    optimizer.zero_grad() \n",
    "    output = model(X_train) \n",
    "    loss = criterion(output, y_train)  \n",
    "    loss.backward()  \n",
    "    optimizer.step()  \n",
    "    if epoch % 100 == 0:\n",
    "        print(f\"Epoch {epoch}, Loss: {loss.item()}\")\n",
    "\n",
    "\n",
    "with torch.no_grad():\n",
    "    y_val_pred = model(X_val)\n",
    "    y_test_pred = model(X_test)\n",
    "\n",
    "\n",
    "y_val_pred = (y_val_pred >= 0.5).float()\n",
    "y_test_pred = (y_test_pred >= 0.5).float()"
   ]
  },
  {
   "cell_type": "code",
   "execution_count": 46,
   "id": "2bffbec8-ca0f-43fc-b096-b938b29db9ce",
   "metadata": {},
   "outputs": [
    {
     "name": "stdout",
     "output_type": "stream",
     "text": [
      "Epoch 0, Loss: 0.22080834209918976\n",
      "Epoch 100, Loss: 0.20118507742881775\n",
      "Epoch 200, Loss: 0.18287496268749237\n",
      "Epoch 300, Loss: 0.16582193970680237\n",
      "Epoch 400, Loss: 0.15024451911449432\n",
      "Epoch 500, Loss: 0.13634759187698364\n",
      "Epoch 600, Loss: 0.12421145290136337\n",
      "Epoch 700, Loss: 0.11377714574337006\n",
      "Epoch 800, Loss: 0.10488724708557129\n",
      "Epoch 900, Loss: 0.09733793884515762\n"
     ]
    }
   ],
   "source": [
    "#SINGLE LAYER (64)\n",
    "model = nn.Sequential(\n",
    "    nn.Linear(30, 64),\n",
    "    nn.Sigmoid(),\n",
    "    nn.Linear(64, 1),\n",
    "    nn.Sigmoid()\n",
    ")\n",
    "criterion = nn.MSELoss()\n",
    "optimizer = optim.SGD(model.parameters(), lr=0.01)\n",
    "epochs = 1000\n",
    "for epoch in range(epochs):\n",
    "    optimizer.zero_grad() \n",
    "    output = model(X_train) \n",
    "    loss = criterion(output, y_train)  \n",
    "    loss.backward()  \n",
    "    optimizer.step()  \n",
    "    if epoch % 100 == 0:\n",
    "        print(f\"Epoch {epoch}, Loss: {loss.item()}\")\n",
    "\n",
    "\n",
    "with torch.no_grad():\n",
    "    y_val_pred = model(X_val)\n",
    "    y_test_pred = model(X_test)\n",
    "\n",
    "\n",
    "y_val_pred = (y_val_pred >= 0.5).float()\n",
    "y_test_pred = (y_test_pred >= 0.5).float()"
   ]
  },
  {
   "cell_type": "code",
   "execution_count": 45,
   "id": "539f04fc-90ef-48c7-812e-d9b4918d594f",
   "metadata": {},
   "outputs": [
    {
     "name": "stdout",
     "output_type": "stream",
     "text": [
      "Epoch 0, Loss: 0.23422124981880188\n",
      "Epoch 100, Loss: 0.13667751848697662\n",
      "Epoch 200, Loss: 0.102983258664608\n",
      "Epoch 300, Loss: 0.08643854409456253\n",
      "Epoch 400, Loss: 0.0764843076467514\n",
      "Epoch 500, Loss: 0.06970249861478806\n",
      "Epoch 600, Loss: 0.06469755619764328\n",
      "Epoch 700, Loss: 0.06079848110675812\n",
      "Epoch 800, Loss: 0.057642482221126556\n",
      "Epoch 900, Loss: 0.055015332996845245\n"
     ]
    }
   ],
   "source": [
    "###SINGLE LAYER(512)\n",
    "model = nn.Sequential(\n",
    "    nn.Linear(30, 512),\n",
    "    nn.Sigmoid(),\n",
    "    nn.Linear(512, 1),\n",
    "    nn.Sigmoid()\n",
    ")\n",
    "criterion = nn.MSELoss()\n",
    "optimizer = optim.SGD(model.parameters(), lr=0.01)\n",
    "epochs = 1000\n",
    "for epoch in range(epochs):\n",
    "    optimizer.zero_grad() \n",
    "    output = model(X_train) \n",
    "    loss = criterion(output, y_train)  \n",
    "    loss.backward()  \n",
    "    optimizer.step()  \n",
    "    if epoch % 100 == 0:\n",
    "        print(f\"Epoch {epoch}, Loss: {loss.item()}\")\n",
    "\n",
    "\n",
    "with torch.no_grad():\n",
    "    y_val_pred = model(X_val)\n",
    "    y_test_pred = model(X_test)\n",
    "\n",
    "\n",
    "y_val_pred = (y_val_pred >= 0.5).float()\n",
    "y_test_pred = (y_test_pred >= 0.5).float()"
   ]
  },
  {
   "cell_type": "code",
   "execution_count": null,
   "id": "83a11938-547d-40d0-a9b5-8ce8389dd04c",
   "metadata": {},
   "outputs": [],
   "source": []
  },
  {
   "cell_type": "code",
   "execution_count": null,
   "id": "a2dcd493-42fb-4443-b0f3-521305026065",
   "metadata": {},
   "outputs": [],
   "source": []
  }
 ],
 "metadata": {
  "kernelspec": {
   "display_name": "Python 3 (ipykernel)",
   "language": "python",
   "name": "python3"
  },
  "language_info": {
   "codemirror_mode": {
    "name": "ipython",
    "version": 3
   },
   "file_extension": ".py",
   "mimetype": "text/x-python",
   "name": "python",
   "nbconvert_exporter": "python",
   "pygments_lexer": "ipython3",
   "version": "3.10.12"
  }
 },
 "nbformat": 4,
 "nbformat_minor": 5
}
