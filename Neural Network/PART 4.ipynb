{
 "cells": [
  {
   "cell_type": "code",
   "execution_count": 1,
   "id": "959f2a64-8dbd-4c6e-ba84-42705cc98892",
   "metadata": {},
   "outputs": [],
   "source": [
    "import torch\n",
    "import torch.nn as nn\n",
    "import torch.optim as optim\n",
    "import matplotlib.pyplot as plt\n",
    "import pandas as pd\n",
    "from sklearn.preprocessing import StandardScaler\n",
    "from sklearn.metrics import confusion_matrix, accuracy_score, precision_score, recall_score, f1_score\n",
    "from torch.utils.data import Dataset \n",
    "from torch.utils.data import DataLoader"
   ]
  },
  {
   "cell_type": "code",
   "execution_count": 2,
   "id": "58245178-98c8-49ce-93bf-89f67130c181",
   "metadata": {},
   "outputs": [],
   "source": [
    "train_data = pd.read_csv('WDBC_Scaled_Train.csv')\n",
    "validation_data = pd.read_csv('WDBC_Scaled_Validation.csv')\n",
    "test_data = pd.read_csv('WDBC_Scaled_Test.csv')"
   ]
  },
  {
   "cell_type": "code",
   "execution_count": 3,
   "id": "a6a415e8-a33e-404f-b03e-1e0612f67b46",
   "metadata": {},
   "outputs": [],
   "source": [
    "X_train = train_data.iloc[:, 1:].values\n",
    "y_train = train_data.iloc[:, 0].values\n",
    "X_val = validation_data.iloc[:, 1:].values\n",
    "y_val = validation_data.iloc[:, 0].values\n",
    "X_test = test_data.iloc[:, 1:].values\n",
    "y_test = test_data.iloc[:, 0].values\n",
    "\n",
    "\n",
    "X_train = torch.tensor(X_train, dtype=torch.float32)\n",
    "y_train = torch.tensor(y_train, dtype=torch.float32).view(-1, 1)\n",
    "\n",
    "X_val = torch.tensor(X_val, dtype=torch.float32)\n",
    "y_val = torch.tensor(y_val, dtype=torch.float32).view(-1, 1)\n",
    "\n",
    "X_test = torch.tensor(X_test, dtype=torch.float32)\n",
    "y_test = torch.tensor(y_test, dtype=torch.float32).view(-1, 1)"
   ]
  },
  {
   "cell_type": "code",
   "execution_count": 20,
   "id": "dfbd3f27-de0e-4c49-9461-00034a50ca8e",
   "metadata": {},
   "outputs": [
    {
     "name": "stdout",
     "output_type": "stream",
     "text": [
      "Confusion Matrix:\n",
      " [[ 6 66]\n",
      " [ 0 42]]\n",
      "Accuracy: 0.4211, Precision: 0.3889, Recall: 1.0000, F1-score: 0.5600\n"
     ]
    }
   ],
   "source": [
    "   ####SINGLE LAYTER(10)\n",
    "model1 = nn.Sequential(\n",
    "    nn.Linear(30, 10),\n",
    "    nn.Sigmoid(),\n",
    "    nn.Linear(10, 1),\n",
    "    nn.Sigmoid()\n",
    ")\n",
    "criterion = nn.MSELoss()\n",
    "optimizer = optim.SGD(model1.parameters(), lr=0.01)\n",
    "\n",
    "with torch.no_grad():\n",
    "    y_val_pred = model1(X_val)\n",
    "    y_test_pred = model1(X_test)\n",
    "\n",
    "\n",
    "y_val_pred = (y_val_pred >= 0.5).float()\n",
    "y_test_pred = (y_test_pred >= 0.5).float()\n",
    "\n",
    "\n",
    "conf_matrix = confusion_matrix(y_test.numpy(), y_test_pred.numpy())\n",
    "accuracy = accuracy_score(y_test.numpy(), y_test_pred.numpy())\n",
    "precision = precision_score(y_test.numpy(), y_test_pred.numpy())\n",
    "recall = recall_score(y_test.numpy(), y_test_pred.numpy())\n",
    "f1 = f1_score(y_test.numpy(), y_test_pred.numpy())\n",
    "\n",
    "\n",
    "print(\"Confusion Matrix:\\n\", conf_matrix)\n",
    "print(f\"Accuracy: {accuracy:.4f}, Precision: {precision:.4f}, Recall: {recall:.4f}, F1-score: {f1:.4f}\")"
   ]
  },
  {
   "cell_type": "code",
   "execution_count": 19,
   "id": "b41a6cb9-d2ff-4ffd-a087-770556c3bd4c",
   "metadata": {},
   "outputs": [
    {
     "name": "stdout",
     "output_type": "stream",
     "text": [
      "Confusion Matrix:\n",
      " [[ 0 72]\n",
      " [ 0 42]]\n",
      "Accuracy: 0.3684, Precision: 0.3684, Recall: 1.0000, F1-score: 0.5385\n"
     ]
    }
   ],
   "source": [
    "   ####SINGLE LAYTER(100)\n",
    "model2 = nn.Sequential(\n",
    "    nn.Linear(30, 100),\n",
    "    nn.Sigmoid(),\n",
    "    nn.Linear(100, 1),\n",
    "    nn.Sigmoid()\n",
    ")\n",
    "criterion = nn.MSELoss()\n",
    "optimizer = optim.SGD(model2.parameters(), lr=0.01)\n",
    "\n",
    "with torch.no_grad():\n",
    "    y_val_pred = model2(X_val)\n",
    "    y_test_pred = model2(X_test)\n",
    "\n",
    "\n",
    "y_val_pred = (y_val_pred >= 0.5).float()\n",
    "y_test_pred = (y_test_pred >= 0.5).float()\n",
    "\n",
    "\n",
    "conf_matrix = confusion_matrix(y_test.numpy(), y_test_pred.numpy())\n",
    "accuracy = accuracy_score(y_test.numpy(), y_test_pred.numpy())\n",
    "precision = precision_score(y_test.numpy(), y_test_pred.numpy())\n",
    "recall = recall_score(y_test.numpy(), y_test_pred.numpy())\n",
    "f1 = f1_score(y_test.numpy(), y_test_pred.numpy())\n",
    "\n",
    "\n",
    "print(\"Confusion Matrix:\\n\", conf_matrix)\n",
    "print(f\"Accuracy: {accuracy:.4f}, Precision: {precision:.4f}, Recall: {recall:.4f}, F1-score: {f1:.4f}\")"
   ]
  },
  {
   "cell_type": "code",
   "execution_count": 14,
   "id": "6ccc368d-a9f2-4e02-807a-3f50be94a1ef",
   "metadata": {},
   "outputs": [
    {
     "name": "stdout",
     "output_type": "stream",
     "text": [
      "Confusion Matrix:\n",
      " [[72  0]\n",
      " [35  7]]\n",
      "Accuracy: 0.6930, Precision: 1.0000, Recall: 0.1667, F1-score: 0.2857\n"
     ]
    }
   ],
   "source": [
    "   ####SINGLE LAYTER(64)\n",
    "model3 = nn.Sequential(\n",
    "    nn.Linear(30, 64),\n",
    "    nn.Sigmoid(),\n",
    "    nn.Linear(64, 1),\n",
    "    nn.Sigmoid()\n",
    ")\n",
    "criterion = nn.MSELoss()\n",
    "optimizer = optim.SGD(model3.parameters(), lr=0.01)\n",
    "\n",
    "with torch.no_grad():\n",
    "    y_val_pred = model3(X_val)\n",
    "    y_test_pred = model3(X_test)\n",
    "\n",
    "\n",
    "y_val_pred = (y_val_pred >= 0.5).float()\n",
    "y_test_pred = (y_test_pred >= 0.5).float()\n",
    "\n",
    "\n",
    "conf_matrix = confusion_matrix(y_test.numpy(), y_test_pred.numpy())\n",
    "accuracy = accuracy_score(y_test.numpy(), y_test_pred.numpy())\n",
    "precision = precision_score(y_test.numpy(), y_test_pred.numpy())\n",
    "recall = recall_score(y_test.numpy(), y_test_pred.numpy())\n",
    "f1 = f1_score(y_test.numpy(), y_test_pred.numpy())\n",
    "\n",
    "\n",
    "print(\"Confusion Matrix:\\n\", conf_matrix)\n",
    "print(f\"Accuracy: {accuracy:.4f}, Precision: {precision:.4f}, Recall: {recall:.4f}, F1-score: {f1:.4f}\")"
   ]
  },
  {
   "cell_type": "code",
   "execution_count": 13,
   "id": "9b821eba-b538-4d9f-a087-abf02f1550f3",
   "metadata": {},
   "outputs": [
    {
     "name": "stdout",
     "output_type": "stream",
     "text": [
      "Confusion Matrix:\n",
      " [[71  1]\n",
      " [42  0]]\n",
      "Accuracy: 0.6228, Precision: 0.0000, Recall: 0.0000, F1-score: 0.0000\n"
     ]
    }
   ],
   "source": [
    "   ####SINGLE LAYTER(512)\n",
    "model4 = nn.Sequential(\n",
    "    nn.Linear(30, 512),\n",
    "    nn.Sigmoid(),\n",
    "    nn.Linear(512, 1),\n",
    "    nn.Sigmoid()\n",
    ")\n",
    "criterion = nn.MSELoss()\n",
    "optimizer = optim.SGD(model4.parameters(), lr=0.01)\n",
    "\n",
    "with torch.no_grad():\n",
    "    y_val_pred = model4(X_val)\n",
    "    y_test_pred = model4(X_test)\n",
    "\n",
    "\n",
    "y_val_pred = (y_val_pred >= 0.5).float()\n",
    "y_test_pred = (y_test_pred >= 0.5).float()\n",
    "\n",
    "\n",
    "conf_matrix = confusion_matrix(y_test.numpy(), y_test_pred.numpy())\n",
    "accuracy = accuracy_score(y_test.numpy(), y_test_pred.numpy())\n",
    "precision = precision_score(y_test.numpy(), y_test_pred.numpy())\n",
    "recall = recall_score(y_test.numpy(), y_test_pred.numpy())\n",
    "f1 = f1_score(y_test.numpy(), y_test_pred.numpy())\n",
    "\n",
    "\n",
    "print(\"Confusion Matrix:\\n\", conf_matrix)\n",
    "print(f\"Accuracy: {accuracy:.4f}, Precision: {precision:.4f}, Recall: {recall:.4f}, F1-score: {f1:.4f}\")"
   ]
  },
  {
   "cell_type": "code",
   "execution_count": 21,
   "id": "32a88a32-3314-4750-a3e1-2e43a20fd11b",
   "metadata": {},
   "outputs": [
    {
     "name": "stdout",
     "output_type": "stream",
     "text": [
      "Confusion Matrix:\n",
      " [[ 0 72]\n",
      " [ 0 42]]\n",
      "Accuracy: 0.3684, Precision: 0.3684, Recall: 1.0000, F1-score: 0.5385\n"
     ]
    }
   ],
   "source": [
    "#FOR TWOLAYER (128,32)\n",
    "model5 = nn.Sequential(\n",
    "    nn.Linear(30, 128),\n",
    "    nn.Sigmoid(),\n",
    "    nn.Linear(128, 32),\n",
    "    nn.Sigmoid(),\n",
    "    nn.Linear(32, 1),\n",
    "    nn.Sigmoid()\n",
    ")\n",
    "criterion = nn.MSELoss()\n",
    "optimizer = optim.SGD(model5.parameters(), lr=0.01)\n",
    "with torch.no_grad():\n",
    "    y_val_pred = model5(X_val)\n",
    "    y_test_pred = model5(X_test)\n",
    "\n",
    "\n",
    "y_val_pred = (y_val_pred >= 0.5).float()\n",
    "y_test_pred = (y_test_pred >= 0.5).float()\n",
    "\n",
    "\n",
    "conf_matrix = confusion_matrix(y_test.numpy(), y_test_pred.numpy())\n",
    "accuracy = accuracy_score(y_test.numpy(), y_test_pred.numpy())\n",
    "precision = precision_score(y_test.numpy(), y_test_pred.numpy())\n",
    "recall = recall_score(y_test.numpy(), y_test_pred.numpy())\n",
    "f1 = f1_score(y_test.numpy(), y_test_pred.numpy())\n",
    "\n",
    "\n",
    "print(\"Confusion Matrix:\\n\", conf_matrix)\n",
    "print(f\"Accuracy: {accuracy:.4f}, Precision: {precision:.4f}, Recall: {recall:.4f}, F1-score: {f1:.4f}\")"
   ]
  },
  {
   "cell_type": "code",
   "execution_count": 22,
   "id": "e8f383f2-f606-4837-9eaa-898a84ed169c",
   "metadata": {},
   "outputs": [
    {
     "name": "stdout",
     "output_type": "stream",
     "text": [
      "Confusion Matrix:\n",
      " [[ 0 72]\n",
      " [ 0 42]]\n",
      "Accuracy: 0.3684, Precision: 0.3684, Recall: 1.0000, F1-score: 0.5385\n"
     ]
    }
   ],
   "source": [
    " #FOR TWOLAYER (64,16)\n",
    "model6 = nn.Sequential(\n",
    "    nn.Linear(30, 64),\n",
    "    nn.Sigmoid(),\n",
    "    nn.Linear(64, 16),\n",
    "    nn.Sigmoid(),\n",
    "    nn.Linear(16, 1),\n",
    "    nn.Sigmoid()\n",
    ")\n",
    "criterion = nn.MSELoss()\n",
    "optimizer = optim.SGD(model6.parameters(), lr=0.01)\n",
    "with torch.no_grad():\n",
    "    y_val_pred = model6(X_val)\n",
    "    y_test_pred = model6(X_test)\n",
    "\n",
    "\n",
    "y_val_pred = (y_val_pred >= 0.5).float()\n",
    "y_test_pred = (y_test_pred >= 0.5).float()\n",
    "\n",
    "\n",
    "conf_matrix = confusion_matrix(y_test.numpy(), y_test_pred.numpy())\n",
    "accuracy = accuracy_score(y_test.numpy(), y_test_pred.numpy())\n",
    "precision = precision_score(y_test.numpy(), y_test_pred.numpy())\n",
    "recall = recall_score(y_test.numpy(), y_test_pred.numpy())\n",
    "f1 = f1_score(y_test.numpy(), y_test_pred.numpy())\n",
    "\n",
    "\n",
    "print(\"Confusion Matrix:\\n\", conf_matrix)\n",
    "print(f\"Accuracy: {accuracy:.4f}, Precision: {precision:.4f}, Recall: {recall:.4f}, F1-score: {f1:.4f}\")"
   ]
  },
  {
   "cell_type": "code",
   "execution_count": null,
   "id": "574e2c3f-08fb-41b3-baf9-a791c992b3ad",
   "metadata": {},
   "outputs": [],
   "source": []
  }
 ],
 "metadata": {
  "kernelspec": {
   "display_name": "Python 3 (ipykernel)",
   "language": "python",
   "name": "python3"
  },
  "language_info": {
   "codemirror_mode": {
    "name": "ipython",
    "version": 3
   },
   "file_extension": ".py",
   "mimetype": "text/x-python",
   "name": "python",
   "nbconvert_exporter": "python",
   "pygments_lexer": "ipython3",
   "version": "3.10.12"
  }
 },
 "nbformat": 4,
 "nbformat_minor": 5
}
