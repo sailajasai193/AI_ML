{
 "cells": [
  {
   "cell_type": "code",
   "execution_count": 1,
   "id": "f7a6ba50-e54b-43f1-8438-fa43e193d1cd",
   "metadata": {},
   "outputs": [],
   "source": [
    "import numpy as np\n",
    "import pandas as pd\n",
    "from sklearn.model_selection import train_test_split\n",
    "from sklearn.linear_model import LogisticRegression\n",
    "from sklearn.svm import SVC\n",
    "from sklearn.metrics import confusion_matrix, accuracy_score, precision_score, recall_score, f1_score\n",
    "import matplotlib.pyplot as plt\n",
    "from sklearn.preprocessing import StandardScaler"
   ]
  },
  {
   "cell_type": "code",
   "execution_count": 2,
   "id": "e369dbb4-0bfa-4d8e-ab2b-bd281e0dbbcc",
   "metadata": {},
   "outputs": [],
   "source": [
    "train_data = pd.read_csv('WDBC_Train.csv')\n",
    "validation_data = pd.read_csv('WDBC_Validation.csv')\n",
    "test_data = pd.read_csv('WDBC_Test.csv')\n",
    "X_train=train_data.drop('diagnosis',axis=1)\n",
    "y_train=train_data['diagnosis']\n",
    "X_valid=validation_data.drop('diagnosis',axis=1)\n",
    "y_valid=validation_data['diagnosis']\n",
    "X_test=test_data.drop('diagnosis',axis=1)\n",
    "y_test=test_data['diagnosis']"
   ]
  },
  {
   "cell_type": "code",
   "execution_count": 3,
   "id": "977489c7-7aeb-4417-8477-3bd370ca38a5",
   "metadata": {},
   "outputs": [
    {
     "name": "stdout",
     "output_type": "stream",
     "text": [
      "Perfomance metrics of Validation Data\n",
      "confusion matrix:  [[70  1]\n",
      " [14 29]]\n",
      "accuracy score:  0.868421052631579\n",
      "precision_score :  0.9666666666666667\n",
      "recall_score : 0.6744186046511628\n",
      "f1_score : 0.7945205479452054\n",
      "Perfomance metrics of Test Data\n",
      "confusion matrix:  [[71  1]\n",
      " [ 7 35]]\n",
      "accuracy score:  0.9298245614035088\n",
      "precision_score :  0.9722222222222222\n",
      "recall_score : 0.8333333333333334\n",
      "f1_score : 0.8974358974358975\n"
     ]
    }
   ],
   "source": [
    "poly_svm = SVC(kernel='poly', degree=3, C=1.0, gamma='scale')\n",
    "poly_svm.fit(X_train, y_train)\n",
    "y_test_pred = poly_svm.predict(X_test)\n",
    "y_val_pred=poly_svm.predict(X_valid)\n",
    "print(\"Perfomance metrics of Validation Data\")\n",
    "print(\"confusion matrix: \",confusion_matrix(y_valid,y_val_pred))\n",
    "print(\"accuracy score: \",accuracy_score(y_valid,y_val_pred))\n",
    "print(\"precision_score : \",precision_score(y_valid,y_val_pred))\n",
    "print(\"recall_score :\",recall_score(y_valid,y_val_pred))\n",
    "print(\"f1_score :\",f1_score(y_valid,y_val_pred))\n",
    "\n",
    "print(\"Perfomance metrics of Test Data\")\n",
    "print(\"confusion matrix: \",confusion_matrix(y_test,y_test_pred))\n",
    "print(\"accuracy score: \",accuracy_score(y_test,y_test_pred))\n",
    "print(\"precision_score : \",precision_score(y_test,y_test_pred))\n",
    "print(\"recall_score :\",recall_score(y_test,y_test_pred))\n",
    "print(\"f1_score :\",f1_score(y_test,y_test_pred))\n",
    "\n"
   ]
  },
  {
   "cell_type": "code",
   "execution_count": null,
   "id": "60d94d75-ef31-443e-9371-02b95cef7741",
   "metadata": {},
   "outputs": [],
   "source": []
  }
 ],
 "metadata": {
  "kernelspec": {
   "display_name": "Python 3 (ipykernel)",
   "language": "python",
   "name": "python3"
  },
  "language_info": {
   "codemirror_mode": {
    "name": "ipython",
    "version": 3
   },
   "file_extension": ".py",
   "mimetype": "text/x-python",
   "name": "python",
   "nbconvert_exporter": "python",
   "pygments_lexer": "ipython3",
   "version": "3.10.12"
  }
 },
 "nbformat": 4,
 "nbformat_minor": 5
}
