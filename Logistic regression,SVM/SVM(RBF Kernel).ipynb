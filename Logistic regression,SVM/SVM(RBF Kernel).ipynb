{
 "cells": [
  {
   "cell_type": "code",
   "execution_count": 1,
   "id": "da600866-c8c8-4e45-a4ff-d2f118b6cb6b",
   "metadata": {},
   "outputs": [],
   "source": [
    "import numpy as np\n",
    "import pandas as pd\n",
    "from sklearn.model_selection import train_test_split\n",
    "from sklearn.linear_model import LogisticRegression\n",
    "from sklearn.svm import SVC\n",
    "from sklearn.metrics import confusion_matrix, accuracy_score, precision_score, recall_score, f1_score\n",
    "import matplotlib.pyplot as plt\n",
    "from sklearn.preprocessing import StandardScaler"
   ]
  },
  {
   "cell_type": "code",
   "execution_count": 2,
   "id": "c5b326be-a96c-4ace-bb13-1452603f121a",
   "metadata": {},
   "outputs": [],
   "source": [
    "train_data = pd.read_csv('WDBC_Train.csv')\n",
    "validation_data = pd.read_csv('WDBC_Validation.csv')\n",
    "test_data = pd.read_csv('WDBC_Test.csv')"
   ]
  },
  {
   "cell_type": "code",
   "execution_count": 3,
   "id": "e404b989-5973-46ea-8d33-930a0225bf59",
   "metadata": {},
   "outputs": [],
   "source": [
    "X_train=train_data.drop('diagnosis',axis=1)\n",
    "y_train=train_data['diagnosis']\n",
    "X_valid=validation_data.drop('diagnosis',axis=1)\n",
    "y_valid=validation_data['diagnosis']\n",
    "X_test=test_data.drop('diagnosis',axis=1)\n",
    "y_test=test_data['diagnosis']"
   ]
  },
  {
   "cell_type": "code",
   "execution_count": 10,
   "id": "68042c1c-33a0-495e-b15d-eea2cac1689d",
   "metadata": {},
   "outputs": [
    {
     "name": "stdout",
     "output_type": "stream",
     "text": [
      "Perfomance metrics of Validation Data\n",
      "confusion matrix:  [[70  1]\n",
      " [16 27]]\n",
      "accuracy score:  0.8508771929824561\n",
      "precision_score :  0.9642857142857143\n",
      "recall_score : 0.627906976744186\n",
      "f1_score : 0.7605633802816901\n",
      "Perfomance metrics of Test Data\n",
      "confusion matrix:  [[71  1]\n",
      " [ 7 35]]\n",
      "accuracy score:  0.9298245614035088\n",
      "precision_score :  0.9722222222222222\n",
      "recall_score : 0.8333333333333334\n",
      "f1_score : 0.8974358974358975\n"
     ]
    }
   ],
   "source": [
    "rbf_svm = SVC(kernel='rbf', C=1.0, gamma='scale')\n",
    "rbf_svm.fit(X_train, y_train)\n",
    "y_test_pred = rbf_svm.predict(X_test)\n",
    "y_val_pred=rbf_svm.predict(X_valid)\n",
    "print(\"Perfomance metrics of Validation Data\")\n",
    "print(\"confusion matrix: \",confusion_matrix(y_valid,y_val_pred))\n",
    "print(\"accuracy score: \",accuracy_score(y_valid,y_val_pred))\n",
    "print(\"precision_score : \",precision_score(y_valid,y_val_pred))\n",
    "print(\"recall_score :\",recall_score(y_valid,y_val_pred))\n",
    "print(\"f1_score :\",f1_score(y_valid,y_val_pred))\n",
    "\n",
    "print(\"Perfomance metrics of Test Data\")\n",
    "print(\"confusion matrix: \",confusion_matrix(y_test,y_test_pred))\n",
    "print(\"accuracy score: \",accuracy_score(y_test,y_test_pred))\n",
    "print(\"precision_score : \",precision_score(y_test,y_test_pred))\n",
    "print(\"recall_score :\",recall_score(y_test,y_test_pred))\n",
    "print(\"f1_score :\",f1_score(y_test,y_test_pred))\n",
    "\n"
   ]
  },
  {
   "cell_type": "code",
   "execution_count": null,
   "id": "5f32f96a-bffe-4372-9dae-6a248b791d36",
   "metadata": {},
   "outputs": [],
   "source": [
    "\n"
   ]
  },
  {
   "cell_type": "code",
   "execution_count": null,
   "id": "27292a97-8a71-4f18-8798-2006544a4eb6",
   "metadata": {},
   "outputs": [],
   "source": []
  }
 ],
 "metadata": {
  "kernelspec": {
   "display_name": "Python 3 (ipykernel)",
   "language": "python",
   "name": "python3"
  },
  "language_info": {
   "codemirror_mode": {
    "name": "ipython",
    "version": 3
   },
   "file_extension": ".py",
   "mimetype": "text/x-python",
   "name": "python",
   "nbconvert_exporter": "python",
   "pygments_lexer": "ipython3",
   "version": "3.10.12"
  }
 },
 "nbformat": 4,
 "nbformat_minor": 5
}
